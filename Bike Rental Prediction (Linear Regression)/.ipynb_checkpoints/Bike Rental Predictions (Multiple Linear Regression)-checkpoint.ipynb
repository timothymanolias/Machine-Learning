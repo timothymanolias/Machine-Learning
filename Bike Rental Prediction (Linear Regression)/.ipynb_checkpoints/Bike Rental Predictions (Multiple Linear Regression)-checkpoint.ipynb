{
 "cells": [
  {
   "cell_type": "markdown",
   "metadata": {
    "tags": []
   },
   "source": [
    "# Bike Rental Predictions - Linear Regression (Timothy Manolias)\n",
    "\n",
    "### The following program predicts the number of bike rentals that will occur for Capital Bikeshare System within a given hour, based on historical bike-rental data and a multiple linear regression model."
   ]
  },
  {
   "cell_type": "markdown",
   "metadata": {},
   "source": [
    "## Imports Libraries and Data"
   ]
  },
  {
   "cell_type": "code",
   "execution_count": 1,
   "metadata": {},
   "outputs": [],
   "source": [
    "'''Imports Libraries.'''\n",
    "\n",
    "import numpy as np\n",
    "import pandas as pd\n",
    "\n",
    "from sklearn import preprocessing as pre\n",
    "from sklearn.linear_model import LinearRegression\n",
    "from sklearn.metrics import mean_squared_error\n",
    "from itertools import combinations as cmb"
   ]
  },
  {
   "cell_type": "code",
   "execution_count": 2,
   "metadata": {},
   "outputs": [
    {
     "data": {
      "text/html": [
       "<div>\n",
       "<style scoped>\n",
       "    .dataframe tbody tr th:only-of-type {\n",
       "        vertical-align: middle;\n",
       "    }\n",
       "\n",
       "    .dataframe tbody tr th {\n",
       "        vertical-align: top;\n",
       "    }\n",
       "\n",
       "    .dataframe thead th {\n",
       "        text-align: right;\n",
       "    }\n",
       "</style>\n",
       "<table border=\"1\" class=\"dataframe\">\n",
       "  <thead>\n",
       "    <tr style=\"text-align: right;\">\n",
       "      <th></th>\n",
       "      <th>season</th>\n",
       "      <th>mnth</th>\n",
       "      <th>hr</th>\n",
       "      <th>holiday</th>\n",
       "      <th>weekday</th>\n",
       "      <th>workingday</th>\n",
       "      <th>weathersit</th>\n",
       "      <th>temp</th>\n",
       "      <th>atemp</th>\n",
       "      <th>hum</th>\n",
       "      <th>windspeed</th>\n",
       "    </tr>\n",
       "  </thead>\n",
       "  <tbody>\n",
       "    <tr>\n",
       "      <th>0</th>\n",
       "      <td>1</td>\n",
       "      <td>1</td>\n",
       "      <td>0</td>\n",
       "      <td>0</td>\n",
       "      <td>6</td>\n",
       "      <td>0</td>\n",
       "      <td>1</td>\n",
       "      <td>0.24</td>\n",
       "      <td>0.2879</td>\n",
       "      <td>0.81</td>\n",
       "      <td>0.0</td>\n",
       "    </tr>\n",
       "    <tr>\n",
       "      <th>1</th>\n",
       "      <td>1</td>\n",
       "      <td>1</td>\n",
       "      <td>1</td>\n",
       "      <td>0</td>\n",
       "      <td>6</td>\n",
       "      <td>0</td>\n",
       "      <td>1</td>\n",
       "      <td>0.22</td>\n",
       "      <td>0.2727</td>\n",
       "      <td>0.80</td>\n",
       "      <td>0.0</td>\n",
       "    </tr>\n",
       "    <tr>\n",
       "      <th>2</th>\n",
       "      <td>1</td>\n",
       "      <td>1</td>\n",
       "      <td>2</td>\n",
       "      <td>0</td>\n",
       "      <td>6</td>\n",
       "      <td>0</td>\n",
       "      <td>1</td>\n",
       "      <td>0.22</td>\n",
       "      <td>0.2727</td>\n",
       "      <td>0.80</td>\n",
       "      <td>0.0</td>\n",
       "    </tr>\n",
       "    <tr>\n",
       "      <th>3</th>\n",
       "      <td>1</td>\n",
       "      <td>1</td>\n",
       "      <td>3</td>\n",
       "      <td>0</td>\n",
       "      <td>6</td>\n",
       "      <td>0</td>\n",
       "      <td>1</td>\n",
       "      <td>0.24</td>\n",
       "      <td>0.2879</td>\n",
       "      <td>0.75</td>\n",
       "      <td>0.0</td>\n",
       "    </tr>\n",
       "    <tr>\n",
       "      <th>4</th>\n",
       "      <td>1</td>\n",
       "      <td>1</td>\n",
       "      <td>4</td>\n",
       "      <td>0</td>\n",
       "      <td>6</td>\n",
       "      <td>0</td>\n",
       "      <td>1</td>\n",
       "      <td>0.24</td>\n",
       "      <td>0.2879</td>\n",
       "      <td>0.75</td>\n",
       "      <td>0.0</td>\n",
       "    </tr>\n",
       "  </tbody>\n",
       "</table>\n",
       "</div>"
      ],
      "text/plain": [
       "   season  mnth  hr  holiday  weekday  workingday  weathersit  temp   atemp  \\\n",
       "0       1     1   0        0        6           0           1  0.24  0.2879   \n",
       "1       1     1   1        0        6           0           1  0.22  0.2727   \n",
       "2       1     1   2        0        6           0           1  0.22  0.2727   \n",
       "3       1     1   3        0        6           0           1  0.24  0.2879   \n",
       "4       1     1   4        0        6           0           1  0.24  0.2879   \n",
       "\n",
       "    hum  windspeed  \n",
       "0  0.81        0.0  \n",
       "1  0.80        0.0  \n",
       "2  0.80        0.0  \n",
       "3  0.75        0.0  \n",
       "4  0.75        0.0  "
      ]
     },
     "execution_count": 2,
     "metadata": {},
     "output_type": "execute_result"
    }
   ],
   "source": [
    "'''Imports Data.'''\n",
    "\n",
    "# Train data\n",
    "train_data = pd.read_csv('Data/BikeSharing_train.csv')\n",
    "train_data_X = train_data.drop(['cnt'], axis=1)\n",
    "train_data_y = train_data[['cnt']]\n",
    "\n",
    "# Test data\n",
    "test_data = pd.read_csv('Data/BikeSharing_test.csv')\n",
    "test_data_X = test_data.drop(['cnt'], axis=1)\n",
    "test_data_y = test_data[['cnt']]\n",
    "\n",
    "train_data_X.head()"
   ]
  },
  {
   "cell_type": "markdown",
   "metadata": {},
   "source": [
    "## Data Preprocessing"
   ]
  },
  {
   "cell_type": "markdown",
   "metadata": {},
   "source": [
    "#### Performs One-Hot Encoding on Categorical Variables in `train_data`:"
   ]
  },
  {
   "cell_type": "code",
   "execution_count": 3,
   "metadata": {},
   "outputs": [],
   "source": [
    "categorical_cols = [\"season\", \"mnth\", \"hr\", \"holiday\", \"weekday\", \"workingday\", \"weathersit\"]\n",
    "\n",
    "if \"season\" in train_data_X.columns: # Prevents encoding variables twice if cell is re-run\n",
    "    categoricals_train = train_data_X.loc[:,categorical_cols]\n",
    "\n",
    "    enc = pre.OneHotEncoder()\n",
    "    enc.fit(categoricals_train)\n",
    "    onehotlabels = enc.transform(categoricals_train).toarray()\n",
    "\n",
    "    # Converts categorical values from digits to string values\n",
    "    for col in categoricals_train.columns:\n",
    "        categoricals_train[col] = categoricals_train.loc[:,[col]].astype(str)\n",
    "        \n",
    "    # Replaces old categorical variables with one-hot encoded variables\n",
    "    categoricals_train = pd.get_dummies(categoricals_train, drop_first=True)\n",
    "    train_data_X = train_data_X.drop(categorical_cols, axis=1)\n",
    "    train_data_X = pd.concat((train_data_X, categoricals_train), axis=1)\n",
    "    train_data_X = train_data_X.sort_index(axis=1)\n",
    "else:\n",
    "    print('Re-execute notebook from beginning to avoid encoding variables twice.')"
   ]
  },
  {
   "cell_type": "markdown",
   "metadata": {},
   "source": [
    "#### Performs One-Hot Encoding on Categorical Variables in `test_data`:"
   ]
  },
  {
   "cell_type": "code",
   "execution_count": 4,
   "metadata": {},
   "outputs": [],
   "source": [
    "if 'season' in test_data.columns:\n",
    "    categoricals_test = test_data_X.loc[:,categorical_cols]\n",
    "\n",
    "    enc2 = pre.OneHotEncoder()\n",
    "    enc2.fit(categoricals_test)\n",
    "    onehotlabels = enc2.transform(categoricals_test).toarray()\n",
    "\n",
    "    # Converts categorical values to string values\n",
    "    for col in categoricals_test.columns:\n",
    "        categoricals_test[col] = categoricals_test.loc[:,[col]].astype(str)\n",
    "\n",
    "    # Replaces old categorical variables with one-hot encoded variables\n",
    "    categoricals_test = pd.get_dummies(categoricals_test, drop_first=True)\n",
    "    test_data_X = test_data_X.drop(categorical_cols, axis=1)\n",
    "    test_data_X = pd.concat((test_data_X, categoricals_test), axis=1)\n",
    "    test_data_X = test_data_X.sort_index(axis=1)\n",
    "else:\n",
    "    print('Re-execute notebook from beginning to avoid encoding variables twice.')"
   ]
  },
  {
   "cell_type": "markdown",
   "metadata": {},
   "source": [
    "## Performs Multiple Linear Regression with K-Fold Cross Validation"
   ]
  },
  {
   "cell_type": "code",
   "execution_count": 5,
   "metadata": {},
   "outputs": [],
   "source": [
    "def cross_val_mse(X, y, k):\n",
    "    '''Manually Performs K-Fold Cross Validation.'''\n",
    "    \n",
    "    # Randomizes rows\n",
    "    idx = np.random.permutation(X.index)\n",
    "    X, y = X.reindex(idx), y.reindex(idx)\n",
    "    y_folds, X_folds, mse_total = [], [], []\n",
    "    \n",
    "    # Splits data into k folds for both X and y\n",
    "    length = len(y) // k\n",
    "    for i in range(k):\n",
    "        fold_data_y = y[length*i : length*(i+1)]\n",
    "        fold_data_X = X[length*i : length*(i+1)]\n",
    "        \n",
    "        # Adds each fold to list\n",
    "        y_folds.append(fold_data_y)\n",
    "        X_folds.append(fold_data_X)\n",
    "    \n",
    "    # Trains and tests for each test-fold\n",
    "    for index in range(k):\n",
    "        # Determines train and test data for y\n",
    "        test_y = y_folds[index]\n",
    "        train_y = y_folds[:index] + y_folds[index+1:]\n",
    "        train_y = pd.concat(train_y, axis=0)\n",
    "\n",
    "        # Determines train and test data for X\n",
    "        test_X = X_folds[index]\n",
    "        train_X = X_folds[:index] + X_folds[index+1:]\n",
    "        train_X = pd.concat(train_X, axis=0)\n",
    "\n",
    "        # Trains fold-model\n",
    "        fold_mod = LinearRegression().fit(train_X, train_y)\n",
    "\n",
    "        # Compares preds and y_test\n",
    "        fold_mod_pred = fold_mod.predict(test_X)\n",
    "        fold_mse = mean_squared_error(test_y, fold_mod_pred)\n",
    "        mse_total.append(fold_mse)\n",
    "\n",
    "    # Returns average of k mse values\n",
    "    return (sum(mse_total) / len(mse_total))"
   ]
  },
  {
   "cell_type": "code",
   "execution_count": 6,
   "metadata": {},
   "outputs": [],
   "source": [
    "'''Fits Linear Regression Model.'''\n",
    "\n",
    "lin_reg_mod = LinearRegression().fit(train_data_X, train_data_y)"
   ]
  },
  {
   "cell_type": "markdown",
   "metadata": {},
   "source": [
    "#### Finds Best Combination of Independent Variables"
   ]
  },
  {
   "cell_type": "code",
   "execution_count": 7,
   "metadata": {},
   "outputs": [],
   "source": [
    "'''Computes All Combinations of Independent Variables.'''\n",
    "\n",
    "orig_cols_X = list(train_data.drop(['cnt'], axis=1).columns)\n",
    "total_combinations = []\n",
    "\n",
    "counter = 1\n",
    "while counter <= len(orig_cols_X):\n",
    "    temp_cmb = cmb(orig_cols_X, counter)\n",
    "    [total_combinations.append(i) for i in temp_cmb]\n",
    "    counter += 1\n",
    "\n",
    "    \n",
    "# Maps categorical column names to encoded variable names\n",
    "column_mappings = {'season'     : ['season_2', 'season_3', 'season_4'],\n",
    "                   'mnth'       : ['mnth_10', 'mnth_11', 'mnth_12', 'mnth_2', 'mnth_3', 'mnth_4', 'mnth_5', 'mnth_6', 'mnth_7', 'mnth_8','mnth_9'],\n",
    "                   'hr'         : ['hr_1', 'hr_10', 'hr_11', 'hr_12', 'hr_13', 'hr_14', 'hr_15', 'hr_16', 'hr_17', 'hr_18', 'hr_19', 'hr_2',\n",
    "                                   'hr_20', 'hr_21', 'hr_22','hr_23', 'hr_3', 'hr_4', 'hr_5', 'hr_6', 'hr_7', 'hr_8', 'hr_9'],\n",
    "                   'holiday'    : ['holiday_1'],\n",
    "                   'weekday'    : ['weekday_1', 'weekday_2', 'weekday_3', 'weekday_4', 'weekday_5', 'weekday_6'],\n",
    "                   'workingday' : ['workingday_1'],\n",
    "                   'weathersit' : ['workingday_1', 'weathersit_2', 'weathersit_3']}\n",
    "\n",
    "categ_col_names = [key for key, value in column_mappings.items()]"
   ]
  },
  {
   "cell_type": "code",
   "execution_count": 8,
   "metadata": {},
   "outputs": [],
   "source": [
    "def get_encoded_columns(X_vars):\n",
    "    '''Replaces categorical column names with one-hot encoded column names.'''\n",
    "    \n",
    "    total_cols = []\n",
    "    for column in X_vars:\n",
    "        if column in categ_col_names:\n",
    "            temp_columns = column_mappings[column]\n",
    "            total_cols.extend(temp_columns)\n",
    "        else:\n",
    "            total_cols.append(column)\n",
    "            \n",
    "    return total_cols"
   ]
  },
  {
   "cell_type": "code",
   "execution_count": 9,
   "metadata": {},
   "outputs": [
    {
     "name": "stdout",
     "output_type": "stream",
     "text": [
      "The minimum rmse for the best variables on train_data is 100.69.\n"
     ]
    }
   ],
   "source": [
    "'''Iterates Through Each Combination of Features to Find Lowest MSE.'''\n",
    "\n",
    "# Initially sets first combination's mse as lowest mse\n",
    "first_comb = train_data_X[get_encoded_columns(total_combinations[0])]\n",
    "min_mse = cross_val_mse(first_comb, train_data_y, 5)\n",
    "\n",
    "# Finds best combination\n",
    "for combination in total_combinations:\n",
    "    temp_cols = [col for col in combination]\n",
    "    encoded_temp_cols = get_encoded_columns(temp_cols)\n",
    "    comb_X = train_data_X[encoded_temp_cols]\n",
    "\n",
    "    # Computes mse and checks if less than min_mse\n",
    "    temp_mse = cross_val_mse(comb_X, train_data_y, 5)\n",
    "    if temp_mse < min_mse:\n",
    "        min_mse = temp_mse\n",
    "        min_col_names = encoded_temp_cols\n",
    "        \n",
    "print(f'The minimum rmse for the best variables on train_data is {(min_mse) ** (1/2):,.2f}.')"
   ]
  },
  {
   "cell_type": "markdown",
   "metadata": {},
   "source": [
    "## Tests Model with `test_data`"
   ]
  },
  {
   "cell_type": "code",
   "execution_count": 10,
   "metadata": {},
   "outputs": [
    {
     "name": "stdout",
     "output_type": "stream",
     "text": [
      "The rmse for the test_data is 120.11.\n"
     ]
    }
   ],
   "source": [
    "'''Predicts test_data Using best_mod and Variables with Best Performance.'''\n",
    "\n",
    "# Trains model using best features from prior step\\\n",
    "best_train = train_data_X[min_col_names]\n",
    "best_mod = LinearRegression().fit(best_train, train_data_y)\n",
    "\n",
    "# Adds one-hot encoded columns from training set that were not in test set\n",
    "for i in train_data_X.columns:\n",
    "    if i not in test_data_X.columns:\n",
    "        test_data_X[i] = 0\n",
    "\n",
    "# Predicts on test_data\n",
    "test_data_X = test_data_X.sort_index(axis=1)\n",
    "final_test_data = test_data_X[min_col_names]\n",
    "y_pred = best_mod.predict(final_test_data)\n",
    "\n",
    "# Evaulates performance of predictions\n",
    "test_mse = cross_val_mse(test_data_X, test_data_y, 5)\n",
    "print(f'The rmse for the test_data is {(test_mse) ** (1/2):,.2f}.')"
   ]
  },
  {
   "cell_type": "markdown",
   "metadata": {},
   "source": [
    "## Results"
   ]
  },
  {
   "cell_type": "markdown",
   "metadata": {},
   "source": [
    "#### After evaluating the model using only the features that minimize the rmse, the model was tested on the `test_data`. On average, the predicted number of bike rentals that will occur in a given hour was incorrect by roughly 120 bikes."
   ]
  }
 ],
 "metadata": {
  "kernelspec": {
   "display_name": "Python 3 (ipykernel)",
   "language": "python",
   "name": "python3"
  },
  "language_info": {
   "codemirror_mode": {
    "name": "ipython",
    "version": 3
   },
   "file_extension": ".py",
   "mimetype": "text/x-python",
   "name": "python",
   "nbconvert_exporter": "python",
   "pygments_lexer": "ipython3",
   "version": "3.9.5"
  }
 },
 "nbformat": 4,
 "nbformat_minor": 4
}
