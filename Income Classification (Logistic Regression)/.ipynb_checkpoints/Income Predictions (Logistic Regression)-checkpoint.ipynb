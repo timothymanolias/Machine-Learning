{
 "cells": [
  {
   "cell_type": "markdown",
   "metadata": {},
   "source": [
    "# Income Predictions - Logistic Regression (Timothy Manolias)\n",
    "\n",
    "### The following program predicts whether an individual makes less than or greater than 50K dollars a year, based on 1994 U.S. census data and a logistic regression model."
   ]
  },
  {
   "cell_type": "markdown",
   "metadata": {},
   "source": [
    "## Imports Libraries and Data"
   ]
  },
  {
   "cell_type": "code",
   "execution_count": 1,
   "metadata": {},
   "outputs": [],
   "source": [
    "'''Loads Libraries.'''\n",
    "\n",
    "import numpy as np\n",
    "import pandas as pd\n",
    "import seaborn as sns\n",
    "import matplotlib.pyplot as plt\n",
    "import statistics\n",
    "import warnings\n",
    "import random\n",
    "\n",
    "from sklearn.preprocessing import StandardScaler\n",
    "from sklearn.linear_model import LogisticRegression"
   ]
  },
  {
   "cell_type": "code",
   "execution_count": 2,
   "metadata": {},
   "outputs": [
    {
     "data": {
      "text/html": [
       "<div>\n",
       "<style scoped>\n",
       "    .dataframe tbody tr th:only-of-type {\n",
       "        vertical-align: middle;\n",
       "    }\n",
       "\n",
       "    .dataframe tbody tr th {\n",
       "        vertical-align: top;\n",
       "    }\n",
       "\n",
       "    .dataframe thead th {\n",
       "        text-align: right;\n",
       "    }\n",
       "</style>\n",
       "<table border=\"1\" class=\"dataframe\">\n",
       "  <thead>\n",
       "    <tr style=\"text-align: right;\">\n",
       "      <th></th>\n",
       "      <th>age</th>\n",
       "      <th>workclass</th>\n",
       "      <th>fnlwgt</th>\n",
       "      <th>education</th>\n",
       "      <th>education_num</th>\n",
       "      <th>marital_status</th>\n",
       "      <th>occupation</th>\n",
       "      <th>relationship</th>\n",
       "      <th>race</th>\n",
       "      <th>sex</th>\n",
       "      <th>capital_gain</th>\n",
       "      <th>capital_loss</th>\n",
       "      <th>hours_per_week</th>\n",
       "      <th>native_country</th>\n",
       "      <th>income</th>\n",
       "    </tr>\n",
       "  </thead>\n",
       "  <tbody>\n",
       "    <tr>\n",
       "      <th>0</th>\n",
       "      <td>90</td>\n",
       "      <td>?</td>\n",
       "      <td>77053</td>\n",
       "      <td>HS-grad</td>\n",
       "      <td>9</td>\n",
       "      <td>Widowed</td>\n",
       "      <td>?</td>\n",
       "      <td>Not-in-family</td>\n",
       "      <td>White</td>\n",
       "      <td>Female</td>\n",
       "      <td>0</td>\n",
       "      <td>4356</td>\n",
       "      <td>40</td>\n",
       "      <td>United-States</td>\n",
       "      <td>&lt;=50K</td>\n",
       "    </tr>\n",
       "    <tr>\n",
       "      <th>1</th>\n",
       "      <td>82</td>\n",
       "      <td>Private</td>\n",
       "      <td>132870</td>\n",
       "      <td>HS-grad</td>\n",
       "      <td>9</td>\n",
       "      <td>Widowed</td>\n",
       "      <td>Exec-managerial</td>\n",
       "      <td>Not-in-family</td>\n",
       "      <td>White</td>\n",
       "      <td>Female</td>\n",
       "      <td>0</td>\n",
       "      <td>4356</td>\n",
       "      <td>18</td>\n",
       "      <td>United-States</td>\n",
       "      <td>&lt;=50K</td>\n",
       "    </tr>\n",
       "    <tr>\n",
       "      <th>2</th>\n",
       "      <td>66</td>\n",
       "      <td>?</td>\n",
       "      <td>186061</td>\n",
       "      <td>Some-college</td>\n",
       "      <td>10</td>\n",
       "      <td>Widowed</td>\n",
       "      <td>?</td>\n",
       "      <td>Unmarried</td>\n",
       "      <td>Black</td>\n",
       "      <td>Female</td>\n",
       "      <td>0</td>\n",
       "      <td>4356</td>\n",
       "      <td>40</td>\n",
       "      <td>United-States</td>\n",
       "      <td>&lt;=50K</td>\n",
       "    </tr>\n",
       "    <tr>\n",
       "      <th>3</th>\n",
       "      <td>54</td>\n",
       "      <td>Private</td>\n",
       "      <td>140359</td>\n",
       "      <td>7th-8th</td>\n",
       "      <td>4</td>\n",
       "      <td>Divorced</td>\n",
       "      <td>Machine-op-inspct</td>\n",
       "      <td>Unmarried</td>\n",
       "      <td>White</td>\n",
       "      <td>Female</td>\n",
       "      <td>0</td>\n",
       "      <td>3900</td>\n",
       "      <td>40</td>\n",
       "      <td>United-States</td>\n",
       "      <td>&lt;=50K</td>\n",
       "    </tr>\n",
       "    <tr>\n",
       "      <th>4</th>\n",
       "      <td>41</td>\n",
       "      <td>Private</td>\n",
       "      <td>264663</td>\n",
       "      <td>Some-college</td>\n",
       "      <td>10</td>\n",
       "      <td>Separated</td>\n",
       "      <td>Prof-specialty</td>\n",
       "      <td>Own-child</td>\n",
       "      <td>White</td>\n",
       "      <td>Female</td>\n",
       "      <td>0</td>\n",
       "      <td>3900</td>\n",
       "      <td>40</td>\n",
       "      <td>United-States</td>\n",
       "      <td>&lt;=50K</td>\n",
       "    </tr>\n",
       "  </tbody>\n",
       "</table>\n",
       "</div>"
      ],
      "text/plain": [
       "   age workclass  fnlwgt     education  education_num marital_status  \\\n",
       "0   90         ?   77053       HS-grad              9        Widowed   \n",
       "1   82   Private  132870       HS-grad              9        Widowed   \n",
       "2   66         ?  186061  Some-college             10        Widowed   \n",
       "3   54   Private  140359       7th-8th              4       Divorced   \n",
       "4   41   Private  264663  Some-college             10      Separated   \n",
       "\n",
       "          occupation   relationship   race     sex  capital_gain  \\\n",
       "0                  ?  Not-in-family  White  Female             0   \n",
       "1    Exec-managerial  Not-in-family  White  Female             0   \n",
       "2                  ?      Unmarried  Black  Female             0   \n",
       "3  Machine-op-inspct      Unmarried  White  Female             0   \n",
       "4     Prof-specialty      Own-child  White  Female             0   \n",
       "\n",
       "   capital_loss  hours_per_week native_country income  \n",
       "0          4356              40  United-States  <=50K  \n",
       "1          4356              18  United-States  <=50K  \n",
       "2          4356              40  United-States  <=50K  \n",
       "3          3900              40  United-States  <=50K  \n",
       "4          3900              40  United-States  <=50K  "
      ]
     },
     "execution_count": 2,
     "metadata": {},
     "output_type": "execute_result"
    }
   ],
   "source": [
    "'''Loads Data and Sets Seed.'''\n",
    "\n",
    "train_data = pd.read_csv('Data/income_train.csv')\n",
    "test_data = pd.read_csv('Data/income_test.csv')\n",
    "random.seed(100)\n",
    "\n",
    "train_data.head()"
   ]
  },
  {
   "cell_type": "markdown",
   "metadata": {},
   "source": [
    "## Data Preprocessing"
   ]
  },
  {
   "cell_type": "markdown",
   "metadata": {},
   "source": [
    "#### The data contains entries with a value of `?`. I executed a different version of this notebook for three datasets to evaluate the `?` values:\n",
    "\n",
    "- A dataset which keeps the '?' values as they originally appear. \n",
    "- A dataset which replaces all '?' values with the mode (most often) value of that column.\n",
    "- A dataset which drops all rows with a '?' entry.\n",
    "\n",
    "Over 5% of the data contains a column value of `?`. After executing the three versions of this notebook, **keeping in the values as they originally appear allows for the best performance**. Therefore, preserving this data as opposed to dropping 5% of the data will result in the most optimal result going forward."
   ]
  },
  {
   "cell_type": "markdown",
   "metadata": {},
   "source": [
    "#### Converts Dependent Variable (income) to Dummy Variables"
   ]
  },
  {
   "cell_type": "code",
   "execution_count": 3,
   "metadata": {},
   "outputs": [],
   "source": [
    "# train_data\n",
    "train_dummies = pd.get_dummies(train_data['income'])\n",
    "if train_data['income'][1] not in [0, 1]:\n",
    "    train_data = pd.concat((train_data, train_dummies['>50K']), axis=1)\n",
    "    del train_data['income']\n",
    "    train_data = train_data.rename(columns={\">50K\": \"income\"})\n",
    "\n",
    "# test_data\n",
    "test_dummies = pd.get_dummies(test_data['income'])\n",
    "if test_data['income'][1] not in [0, 1]:\n",
    "    test_data = pd.concat((test_data, test_dummies['>50K']), axis=1)\n",
    "    del test_data['income']\n",
    "    test_data = test_data.rename(columns={\">50K\": \"income\"})        "
   ]
  },
  {
   "cell_type": "markdown",
   "metadata": {},
   "source": [
    "## Exploratory Data Analysis"
   ]
  },
  {
   "cell_type": "markdown",
   "metadata": {},
   "source": [
    "#### Histograms of Numerical Features"
   ]
  },
  {
   "cell_type": "code",
   "execution_count": 4,
   "metadata": {
    "tags": []
   },
   "outputs": [
    {
     "data": {
      "image/png": "[encoded data removed]",
      "text/plain": [
       "<Figure size 1080x432 with 7 Axes>"
      ]
     },
     "metadata": {
      "needs_background": "light"
     },
     "output_type": "display_data"
    }
   ],
   "source": [
    "warnings.simplefilter('ignore', UserWarning)\n",
    "warnings.simplefilter('ignore', FutureWarning)\n",
    "\n",
    "numeric_features = train_data.select_dtypes(exclude=['object', 'bool'])\n",
    "numeric_features_stack = numeric_features.stack().reset_index().rename(columns = {'level_1': 'Features', 0: 'Value'})\n",
    "\n",
    "grid = sns.FacetGrid(data=numeric_features_stack, col=\"Features\", col_wrap=5, sharex=False, sharey=False)\n",
    "grid = grid.map(sns.distplot, 'Value', color='blue')\n",
    "\n",
    "plt.subplots_adjust(top=0.9)\n",
    "plt.suptitle('Histograms of Numerical Features', size=15);"
   ]
  },
  {
   "cell_type": "markdown",
   "metadata": {},
   "source": [
    "**Evaluation of Histograms:**\n",
    "\n",
    "- The distribution of `age` produces the most 'normal' distribution compared to the other numeric features.\n",
    "- Most people within this dataset have a `highschool education` level or `college education` level (indicated by levels 9 & 10 in education_num).\n",
    "- The `income` distribution indicates that there are many more people who make <=50K each year.\n",
    "- Most people tend to work around `40 hours_per_week`.\n",
    "- The `capital_gain` and `capital_loss` features are highly right-skewed. The capital_gain range is also significantly greater than the capital_loss range."
   ]
  },
  {
   "cell_type": "markdown",
   "metadata": {},
   "source": [
    "#### Correlation Matrix"
   ]
  },
  {
   "cell_type": "code",
   "execution_count": 5,
   "metadata": {
    "jupyter": {
     "source_hidden": true
    }
   },
   "outputs": [
    {
     "data": {
      "image/png": "[encoded data removed]",
      "text/plain": [
       "<Figure size 432x288 with 2 Axes>"
      ]
     },
     "metadata": {
      "needs_background": "light"
     },
     "output_type": "display_data"
    }
   ],
   "source": [
    "corr_cols = [i for i in numeric_features.columns]\n",
    "lower_corr_triangle = np.tril(train_data[corr_cols].corr())\n",
    "sns.heatmap(train_data[corr_cols].corr(), annot=True, mask=lower_corr_triangle, annot_kws={'fontsize': 7});"
   ]
  },
  {
   "cell_type": "markdown",
   "metadata": {},
   "source": [
    "According to the correlation matrix listed above, **none of the features are highly correlated**. We therefore do not have to account for multicollinearity."
   ]
  },
  {
   "cell_type": "markdown",
   "metadata": {},
   "source": [
    "#### Bar Charts"
   ]
  },
  {
   "cell_type": "code",
   "execution_count": 6,
   "metadata": {
    "jupyter": {
     "source_hidden": true
    }
   },
   "outputs": [
    {
     "data": {
      "image/png": "[encoded data removed]",
      "text/plain": [
       "<Figure size 1080x360 with 1 Axes>"
      ]
     },
     "metadata": {
      "needs_background": "light"
     },
     "output_type": "display_data"
    }
   ],
   "source": [
    "'''Plots  \">50K Income Proportion by Education and Gender\"  Bar Chart.'''\n",
    "\n",
    "x_axis_order = ['Preschool', '1st-4th', '5th-6th', '7th-8th', '9th', '10th', '11th', '12th', 'HS-grad', 'Some-college',\n",
    "                'Assoc-acdm', 'Assoc-voc', 'Bachelors', 'Masters', 'Doctorate', 'Prof-school']\n",
    "\n",
    "# Plots education vs. income graph\n",
    "ax = sns.catplot(x=\"education\", y=\"income\", kind=\"bar\", data=train_data, aspect=3, order=x_axis_order)\n",
    "ax.set_xticklabels(rotation=30)\n",
    "\n",
    "# Plots line where 50% of group makes >50K\n",
    "x_coords, y_coords = [0,15], [0.5, 0.5]\n",
    "plt.plot(x_coords, y_coords, 'r')\n",
    "\n",
    "# Alters title and labels\n",
    "plt.title('Education vs. Probability of Earning >50K a Year [1994]', size=20)\n",
    "plt.ylabel('Probability of Earning >50K a Year', size=15)\n",
    "plt.xlabel('Education', size=15);"
   ]
  },
  {
   "cell_type": "markdown",
   "metadata": {},
   "source": [
    "- 50,000 dollars in 1994 is worth about 88,700 dollars in 2021"
   ]
  },
  {
   "cell_type": "markdown",
   "metadata": {},
   "source": [
    "**Evaluation of 'Education vs. Income' Plot:**\n",
    "\n",
    "- There seems to be an increase in the probability of making >50K a year as education level increases (after high school).\n",
    "- One can expect a salary >50K when pursuing a Master's Degree"
   ]
  },
  {
   "cell_type": "code",
   "execution_count": 7,
   "metadata": {
    "jupyter": {
     "source_hidden": true
    }
   },
   "outputs": [
    {
     "data": {
      "image/png": "[encoded data removed]",
      "text/plain": [
       "<Figure size 1152.12x360 with 1 Axes>"
      ]
     },
     "metadata": {
      "needs_background": "light"
     },
     "output_type": "display_data"
    }
   ],
   "source": [
    "'''Plots  \"Education vs. Income by Gender\"  Bar Chart.'''\n",
    "\n",
    "ax = sns.catplot(x=\"education\", y=\"income\", hue=\"sex\", kind=\"bar\", data=train_data, aspect=3, order=x_axis_order)\n",
    "ax.set_xticklabels(rotation=30)\n",
    "\n",
    "# Plots line where 50% of group makes >50K\n",
    "x_coords, y_coords = [0,15], [0.5, 0.5]\n",
    "plt.plot(x_coords, y_coords, 'r')\n",
    "\n",
    "# Alters title and labels\n",
    "plt.title('Education vs. Probability of Earning >50K a Year (By Gender) [1994]', size=20)\n",
    "plt.ylabel('Probability of Earning >50K a Year', size=15)\n",
    "plt.xlabel('Education', size=15)\n",
    "ax._legend.set_title('Gender');"
   ]
  },
  {
   "cell_type": "markdown",
   "metadata": {},
   "source": [
    "- 50,000 dollars in 1994 is worth about 88,700 dollars in 2021"
   ]
  },
  {
   "cell_type": "markdown",
   "metadata": {},
   "source": [
    "**Evaluation of 'Education vs. Income by Gender' Plot:**\n",
    "\n",
    "- There is a clear **gap in the probability of making >50K between men and women**.\n",
    "- For **men**, atleast a **Bachelor's degree** is needed to expect **>50K salary each year**.\n",
    "- For **women**, atleast a **Doctorate** is needed to expect **>50K salary each year**."
   ]
  },
  {
   "cell_type": "markdown",
   "metadata": {},
   "source": [
    "## Data Preprocessing (Continued)"
   ]
  },
  {
   "cell_type": "code",
   "execution_count": 8,
   "metadata": {},
   "outputs": [],
   "source": [
    "'''Splits Data Into Dependent & Independent Variables.'''\n",
    "\n",
    "# Splits train_data into X and y\n",
    "train_data_X = train_data.drop(['income'], axis=1)\n",
    "train_data_y = train_data[['income']]\n",
    "\n",
    "# Splits test_data into X and y\n",
    "test_data_X = test_data.drop(['income'], axis=1)\n",
    "test_data_y = test_data[['income']]"
   ]
  },
  {
   "cell_type": "code",
   "execution_count": 9,
   "metadata": {},
   "outputs": [],
   "source": [
    "'''Standardizes Continuous Features.'''\n",
    "\n",
    "# Gets continuous variables\n",
    "contin_cols = ['age', 'fnlwgt', 'education_num', 'capital_gain', 'capital_loss', 'hours_per_week']\n",
    "contin_train = train_data_X[contin_cols]\n",
    "contin_test = test_data_X[contin_cols]\n",
    "\n",
    "# Performs standardization\n",
    "sc = StandardScaler()\n",
    "for col in contin_cols:\n",
    "    # X_train\n",
    "    temp_train = np.array(contin_train[col]).reshape(-1, 1)\n",
    "    train_data_X[col] = sc.fit_transform(temp_train)\n",
    "    \n",
    "    # X_test\n",
    "    temp_test = np.array(contin_test[col]).reshape(-1, 1)\n",
    "    test_data_X[col] = sc.fit_transform(temp_test)"
   ]
  },
  {
   "cell_type": "code",
   "execution_count": 10,
   "metadata": {},
   "outputs": [],
   "source": [
    "'''Converts Categorical Variables into Dummy Variables.'''\n",
    "\n",
    "categ_cols = ['workclass', 'education', 'marital_status', 'occupation',\n",
    "              'relationship', 'race', 'sex', 'native_country']\n",
    "\n",
    "categ_train = pd.get_dummies(train_data_X[categ_cols])\n",
    "categ_test = pd.get_dummies(test_data_X[categ_cols])\n",
    "\n",
    "# Replaces old categorical columns with encoded columns\n",
    "if categ_cols[0] in train_data_X.columns:\n",
    "    train_data_X = train_data_X.drop(categ_cols, axis=1)\n",
    "    train_data_X = pd.concat((train_data_X, categ_train), axis=1)\n",
    "    \n",
    "    test_data_X = test_data_X.drop(categ_cols, axis=1)\n",
    "    test_data_X = pd.concat((test_data_X, categ_test), axis=1)"
   ]
  },
  {
   "cell_type": "code",
   "execution_count": 11,
   "metadata": {},
   "outputs": [],
   "source": [
    "'''Adds in One-Hot Encoded Variables to Both Train and Tests Sets.'''\n",
    "\n",
    "# Adds columns from test set\n",
    "for col in test_data_X.columns:\n",
    "    if col not in train_data_X.columns:\n",
    "        train_data_X[col] = 0\n",
    "        \n",
    "# Adds columns from train set\n",
    "for col in train_data_X.columns:\n",
    "    if col not in test_data.columns:\n",
    "        test_data_X[col] = 0"
   ]
  },
  {
   "cell_type": "markdown",
   "metadata": {},
   "source": [
    "## Logistic Regression"
   ]
  },
  {
   "cell_type": "code",
   "execution_count": 12,
   "metadata": {},
   "outputs": [],
   "source": [
    "'''Builds Logistic Model.'''\n",
    "\n",
    "# Splits Data into train and validation sets\n",
    "X_train, y_train = train_data_X.iloc[:2800,:],  train_data_y.iloc[:2800,:]\n",
    "X_val, y_val = train_data_X.iloc[2800:,:],  train_data_y.iloc[2800:,:]\n",
    "\n",
    "# Fits logistic regression model\n",
    "mod = LogisticRegression(max_iter=1000)\n",
    "mod.fit(X_train, y_train.values.ravel());"
   ]
  },
  {
   "cell_type": "markdown",
   "metadata": {},
   "source": [
    "#### Creates Precision, Recall & Accuracy Functions to Evaluate Performance"
   ]
  },
  {
   "cell_type": "code",
   "execution_count": 13,
   "metadata": {},
   "outputs": [],
   "source": [
    "def precision(y, y_preds):\n",
    "    '''Returns precision, which is TP/(TP+FP).'''\n",
    "    \n",
    "    tp, fp = 0,  0\n",
    "    for i in range(len(y_preds)):\n",
    "        if y_preds[i] == 1:\n",
    "            if y[i] == 1:\n",
    "                tp += 1\n",
    "            else:\n",
    "                fp += 1\n",
    "    \n",
    "    return tp / (tp+fp) if tp+fp > 0 else 0"
   ]
  },
  {
   "cell_type": "code",
   "execution_count": 14,
   "metadata": {},
   "outputs": [],
   "source": [
    "def recall(y, y_preds):\n",
    "    '''Returns recall, which is TP/(TP+FN).'''\n",
    "\n",
    "    tp, fn = 0,  0\n",
    "    for i in range(len(y_preds)):\n",
    "        if y_preds[i] == 1 and y[i] == 1:\n",
    "            tp += 1\n",
    "        elif y[i] == 1 and y_preds[i] == 0:\n",
    "            fn += 1\n",
    "                \n",
    "    return tp / (tp+fn)"
   ]
  },
  {
   "cell_type": "code",
   "execution_count": 15,
   "metadata": {},
   "outputs": [],
   "source": [
    "def accuracy(y, y_preds):\n",
    "    '''Returns accuracy, which is (TP+TN)/(TP+FP+FN+TN).'''\n",
    "\n",
    "    tp, tn, fp, fn = 0, 0, 0, 0\n",
    "    \n",
    "    for i in range(len(y_preds)):\n",
    "        if y_preds[i] == 1 and y[i] == 1:\n",
    "            tp += 1\n",
    "        elif y_preds[i] == 1 and y[i] == 0:\n",
    "            fp += 1\n",
    "        elif y_preds[i] == 0 and y[i] == 1:\n",
    "            fn += 1\n",
    "        elif y_preds[i] == 0 and y[i] == 0:\n",
    "            tn += 1\n",
    "                \n",
    "    return (tp + tn) / (tp + fp + fn + tn)"
   ]
  },
  {
   "cell_type": "markdown",
   "metadata": {},
   "source": [
    "#### Predicts Output for Validation Set"
   ]
  },
  {
   "cell_type": "code",
   "execution_count": 16,
   "metadata": {},
   "outputs": [],
   "source": [
    "def threshold_pred(pred_probs, threshold_level=.465): # Optimal default based on evaluation of 200 threshold values\n",
    "    '''Returns New Predicted Value Based on Threshold value.'''\n",
    "\n",
    "    new_predictions = []\n",
    "    for pred in pred_probs:\n",
    "        if pred[1] >= threshold_level:\n",
    "            new_predictions.append(1)\n",
    "        else:\n",
    "            new_predictions.append(0)\n",
    "            \n",
    "    return new_predictions"
   ]
  },
  {
   "cell_type": "code",
   "execution_count": 17,
   "metadata": {},
   "outputs": [
    {
     "name": "stdout",
     "output_type": "stream",
     "text": [
      "Precision: 0.41452\n",
      "Recall:    0.90723\n",
      "Accuracy:  0.73056\n"
     ]
    }
   ],
   "source": [
    "'''Evaluates Validation Set Predictions.'''\n",
    "\n",
    "y_pred = threshold_pred(mod.predict_proba(X_val))\n",
    "y_val = np.array([i[0] for i in y_val.values.tolist()])\n",
    "\n",
    "# Uses predictions to calculate accuracy, precision, recall\n",
    "print(f'Precision: {precision(y_val, y_pred):.5f}')\n",
    "print(f'Recall:    {recall(y_val, y_pred):.5f}')\n",
    "print(f'Accuracy:  {accuracy(y_val, y_pred):.5f}')"
   ]
  },
  {
   "cell_type": "markdown",
   "metadata": {},
   "source": [
    "#### ROC Curve"
   ]
  },
  {
   "cell_type": "code",
   "execution_count": 18,
   "metadata": {
    "jupyter": {
     "source_hidden": true
    },
    "tags": []
   },
   "outputs": [
    {
     "data": {
      "image/png": "[encoded data removed]",
      "text/plain": [
       "<Figure size 432x288 with 1 Axes>"
      ]
     },
     "metadata": {
      "needs_background": "light"
     },
     "output_type": "display_data"
    }
   ],
   "source": [
    "from sklearn.metrics import roc_curve\n",
    "import sklearn.metrics as metrics\n",
    "\n",
    "y_probs = mod.predict_proba(X_val)[:,1]\n",
    "fpr, tpr, thresholds = metrics.roc_curve(y_val, y_probs, pos_label=1)\n",
    "roc_auc = metrics.auc(fpr, tpr)\n",
    "\n",
    "# Plots AUC graph\n",
    "plt.title('Receiver Operating Characteristic')\n",
    "plt.plot(fpr, tpr, 'b', label = 'AUC = %0.2f' % roc_auc)\n",
    "plt.legend(loc = 'lower right')\n",
    "plt.plot([0, 1], [0, 1],'r--')\n",
    "plt.xlim([0, 1])\n",
    "plt.ylim([0, 1])\n",
    "plt.ylabel('True Positive Rate')\n",
    "plt.xlabel('False Positive Rate')\n",
    "plt.show()"
   ]
  },
  {
   "cell_type": "markdown",
   "metadata": {},
   "source": [
    "## Tuning Hyperparameters"
   ]
  },
  {
   "cell_type": "code",
   "execution_count": 19,
   "metadata": {},
   "outputs": [],
   "source": [
    "def tune_logistic_model(c, p, X_train, y_train):\n",
    "    '''Builds logistic regression model based on given hyperparameters.'''\n",
    "\n",
    "    return LogisticRegression(C=c, penalty=p, solver='liblinear').fit(X_train, y_train.values.ravel())"
   ]
  },
  {
   "cell_type": "code",
   "execution_count": 20,
   "metadata": {},
   "outputs": [],
   "source": [
    "def prediction_results(mod, y_val):\n",
    "    '''Prints precision, recall & accuracy values, based on logistic model's predictions.'''\n",
    "    \n",
    "    y_pred = threshold_pred(mod.predict_proba(X_val))\n",
    "    \n",
    "    # Prints accuracy, precision & recall\n",
    "    print(f'Precision: {precision(y_val, y_pred):.5f}')\n",
    "    print(f'Recall:    {recall(y_val, y_pred):.5f}')\n",
    "    print(f'Accuracy:  {accuracy(y_val, y_pred):.5f}')"
   ]
  },
  {
   "cell_type": "markdown",
   "metadata": {},
   "source": [
    "#### **Model 1**: Builds a logistic regression model with hyperparameter **'C' set to 0.1** and **penalty set to 'l1'**."
   ]
  },
  {
   "cell_type": "code",
   "execution_count": 21,
   "metadata": {},
   "outputs": [
    {
     "name": "stdout",
     "output_type": "stream",
     "text": [
      "Precision: 0.35643\n",
      "Recall:    0.95450\n",
      "Accuracy:  0.65315\n"
     ]
    }
   ],
   "source": [
    "mod1 = tune_logistic_model(0.1, 'l1', X_train, y_train)\n",
    "prediction_results(mod1, y_val)"
   ]
  },
  {
   "cell_type": "markdown",
   "metadata": {},
   "source": [
    "#### **Model 2**: Builds a logistic regression model with **hyperparameter 'C' set to 0.5** and **penalty set to 'l1'**."
   ]
  },
  {
   "cell_type": "code",
   "execution_count": 22,
   "metadata": {},
   "outputs": [
    {
     "name": "stdout",
     "output_type": "stream",
     "text": [
      "Precision: 0.41382\n",
      "Recall:    0.91251\n",
      "Accuracy:  0.72940\n"
     ]
    }
   ],
   "source": [
    "mod2 = tune_logistic_model(0.5, 'l1', X_train, y_train)\n",
    "prediction_results(mod2, y_val)"
   ]
  },
  {
   "cell_type": "markdown",
   "metadata": {},
   "source": [
    "#### **Model 3**: Builds a logistic regression model with hyperparameter **'C' set to 0.1** and **penalty set to 'l2'**."
   ]
  },
  {
   "cell_type": "code",
   "execution_count": 23,
   "metadata": {},
   "outputs": [
    {
     "name": "stdout",
     "output_type": "stream",
     "text": [
      "Precision: 0.35988\n",
      "Recall:    0.95669\n",
      "Accuracy:  0.65784\n"
     ]
    }
   ],
   "source": [
    "mod3 = tune_logistic_model(0.1, 'l2', X_train, y_train)\n",
    "prediction_results(mod3, y_val)"
   ]
  },
  {
   "cell_type": "markdown",
   "metadata": {},
   "source": [
    "#### **Model 4**: Builds a logistic regression model with hyperparameter **'C' set to 0.5** and **penalty set to 'l2'**."
   ]
  },
  {
   "cell_type": "code",
   "execution_count": 24,
   "metadata": {},
   "outputs": [
    {
     "name": "stdout",
     "output_type": "stream",
     "text": [
      "Precision: 0.40092\n",
      "Recall:    0.92240\n",
      "Accuracy:  0.71453\n"
     ]
    }
   ],
   "source": [
    "mod4 = tune_logistic_model(0.5, 'l2', X_train, y_train)\n",
    "prediction_results(mod4, y_val)"
   ]
  },
  {
   "cell_type": "markdown",
   "metadata": {},
   "source": [
    "#### Best Model Out of the 4 Models Listed Above:\n",
    "\n",
    "**Model 2**, with hyperparameter 'C' set to 0.5 and penalty set to 'l1', yields higher precision and accuracy values. Although model 2 has a slighty lower recall value than the other models, model 2's accuracy and precision values outweigh the slight decrease in recall compared to the other models. Therefore, **model 2 is the best model.**"
   ]
  },
  {
   "cell_type": "markdown",
   "metadata": {},
   "source": [
    "## Test Set Predictions"
   ]
  },
  {
   "cell_type": "code",
   "execution_count": 25,
   "metadata": {},
   "outputs": [
    {
     "name": "stdout",
     "output_type": "stream",
     "text": [
      "Precision: 0.30000\n",
      "Recall:    0.49603\n",
      "Accuracy:  0.68145\n"
     ]
    }
   ],
   "source": [
    "'''Makes Predictions on test_data using Logistic Regression and Optimal Hyperparameters.'''\n",
    "\n",
    "# Sorts columns and builds model\n",
    "train_data_X = train_data_X.sort_index(axis=1)\n",
    "test_data_X = test_data_X.sort_index(axis=1)\n",
    "final_mod = mod2\n",
    "\n",
    "# Predictions on test_data\n",
    "test_pred = threshold_pred(final_mod.predict_proba(test_data_X))\n",
    "test_val = np.array([i[0] for i in test_data_y.values.tolist()])\n",
    "\n",
    "# Prints performance\n",
    "print(f'Precision: {precision(test_val, test_pred):.5f}')\n",
    "print(f'Recall:    {recall(test_val, test_pred):.5f}')\n",
    "print(f'Accuracy:  {accuracy(test_val, test_pred):.5f}')"
   ]
  },
  {
   "cell_type": "markdown",
   "metadata": {},
   "source": [
    "## Results and Evaluation"
   ]
  },
  {
   "cell_type": "code",
   "execution_count": 26,
   "metadata": {},
   "outputs": [
    {
     "data": {
      "text/html": [
       "<div>\n",
       "<style scoped>\n",
       "    .dataframe tbody tr th:only-of-type {\n",
       "        vertical-align: middle;\n",
       "    }\n",
       "\n",
       "    .dataframe tbody tr th {\n",
       "        vertical-align: top;\n",
       "    }\n",
       "\n",
       "    .dataframe thead th {\n",
       "        text-align: right;\n",
       "    }\n",
       "</style>\n",
       "<table border=\"1\" class=\"dataframe\">\n",
       "  <thead>\n",
       "    <tr style=\"text-align: right;\">\n",
       "      <th></th>\n",
       "      <th>Test Results</th>\n",
       "    </tr>\n",
       "  </thead>\n",
       "  <tbody>\n",
       "    <tr>\n",
       "      <th>Accuracy</th>\n",
       "      <td>0.681451</td>\n",
       "    </tr>\n",
       "    <tr>\n",
       "      <th>Precision</th>\n",
       "      <td>0.300000</td>\n",
       "    </tr>\n",
       "    <tr>\n",
       "      <th>Recall</th>\n",
       "      <td>0.496025</td>\n",
       "    </tr>\n",
       "  </tbody>\n",
       "</table>\n",
       "</div>"
      ],
      "text/plain": [
       "           Test Results\n",
       "Accuracy       0.681451\n",
       "Precision      0.300000\n",
       "Recall         0.496025"
      ]
     },
     "execution_count": 26,
     "metadata": {},
     "output_type": "execute_result"
    }
   ],
   "source": [
    "train_vs_test = {'Test Results' : {'Precision': precision(test_val, test_pred),\n",
    "                                   'Recall'   : recall(test_val, test_pred),\n",
    "                                   'Accuracy' : accuracy(test_val, test_pred)}}\n",
    "\n",
    "pd.DataFrame(train_vs_test)"
   ]
  },
  {
   "cell_type": "markdown",
   "metadata": {},
   "source": [
    "Based on the results above, the model mis-labeled many >50K entries as <=50K entries.\n",
    "\n",
    "The recall performance may be a result of overfitting. In order to diminish potential overfitting effects, it may be optimal in the future to:\n",
    "- Re-train model with fewer features.\n",
    "- Address income imbalance within the dataset itself."
   ]
  },
  {
   "cell_type": "markdown",
   "metadata": {},
   "source": [
    "#### Best Features"
   ]
  },
  {
   "cell_type": "code",
   "execution_count": 27,
   "metadata": {
    "jupyter": {
     "source_hidden": true
    }
   },
   "outputs": [],
   "source": [
    "'''Calculates Features with Greatest Impact on Model.'''\n",
    "\n",
    "X_train_features = [col for col in X_train.columns]\n",
    "coef_vals = [val for val in final_mod.coef_[0]]\n",
    "features_coefs = [pair for pair in zip(X_train_features, coef_vals)]\n",
    "\n",
    "# Sorts coefficients in descending order\n",
    "features_coefs.sort(key=lambda tup: tup[1], reverse=True)\n",
    "top5_pos, top5_neg = features_coefs[:5], features_coefs[-5:]"
   ]
  },
  {
   "cell_type": "markdown",
   "metadata": {},
   "source": [
    "**Top 5 Features with Greatest Positive Impact** on Logistic Regression Model:"
   ]
  },
  {
   "cell_type": "code",
   "execution_count": 28,
   "metadata": {},
   "outputs": [
    {
     "name": "stdout",
     "output_type": "stream",
     "text": [
      "capital_gain\n",
      "marital_status_Married-civ-spouse\n",
      "education_10th\n",
      "relationship_Wife\n",
      "education_num\n"
     ]
    }
   ],
   "source": [
    "[print(feature[0]) for feature in top5_pos];"
   ]
  },
  {
   "cell_type": "markdown",
   "metadata": {},
   "source": [
    "**Top 5 Features with Greatest Negative Impact** on Logistic Regression Model:"
   ]
  },
  {
   "cell_type": "code",
   "execution_count": 29,
   "metadata": {},
   "outputs": [
    {
     "name": "stdout",
     "output_type": "stream",
     "text": [
      "relationship_Own-child\n",
      "marital_status_Divorced\n",
      "marital_status_Never-married\n",
      "sex_Female\n",
      "occupation_Farming-fishing\n"
     ]
    }
   ],
   "source": [
    "[print(feature[0]) for feature in top5_neg[::-1]];"
   ]
  },
  {
   "cell_type": "markdown",
   "metadata": {},
   "source": [
    "#### Evaluation of Features:\n",
    "**Greatest Positive Features:**\n",
    "- People with `greater capital gains` have a `higher probability` of making >50k a year.\n",
    "- People with a `college degree` (education_10th) are `more likely to make >50k a year`.\n",
    "\n",
    "**Greatest Negative Features:**\n",
    "- People who `have a child` have a `lower probability` of making >50k a year.\n",
    "- `Females` have a `lower probability of making >50k a year`, which is further supported by the gender breakdown chart in the exploratory analysis portion."
   ]
  },
  {
   "cell_type": "markdown",
   "metadata": {},
   "source": [
    "## Overall Performance"
   ]
  },
  {
   "cell_type": "markdown",
   "metadata": {},
   "source": [
    "#### The model correctly predicts whether an individual makes less than or greater than 50K a year **68.1%** of the time.\n",
    "\n",
    "#### Given these results, having greater capital gains and a college degree increases one's probability of making >50K dollars a year. Also, having a child decreases ones probability of making >50K a year. Furthermore, the data demostrates that females had a lower probability of making >50K dollars in 1994."
   ]
  }
 ],
 "metadata": {
  "kernelspec": {
   "display_name": "Python 3 (ipykernel)",
   "language": "python",
   "name": "python3"
  },
  "language_info": {
   "codemirror_mode": {
    "name": "ipython",
    "version": 3
   },
   "file_extension": ".py",
   "mimetype": "text/x-python",
   "name": "python",
   "nbconvert_exporter": "python",
   "pygments_lexer": "ipython3",
   "version": "3.9.5"
  }
 },
 "nbformat": 4,
 "nbformat_minor": 4
}
